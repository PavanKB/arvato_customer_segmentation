{
 "cells": [
  {
   "cell_type": "markdown",
   "metadata": {},
   "source": [
    "# Capstone Project: Create a Customer Segmentation Report for Arvato Financial Services\n",
    "\n",
    "In this project, you will analyze demographics data for customers of a mail-order sales company in Germany, comparing it against demographics information for the general population. You'll use unsupervised learning techniques to perform customer segmentation, identifying the parts of the population that best describe the core customer base of the company. Then, you'll apply what you've learned on a third dataset with demographics information for targets of a marketing campaign for the company, and use a model to predict which individuals are most likely to convert into becoming customers for the company. The data that you will use has been provided by our partners at Bertelsmann Arvato Analytics, and represents a real-life data science task.\n",
    "\n",
    "If you completed the first term of this program, you will be familiar with the first part of this project, from the unsupervised learning project. The versions of those two datasets used in this project will include many more features and has not been pre-cleaned. You are also free to choose whatever approach you'd like to analyzing the data rather than follow pre-determined steps. In your work on this project, make sure that you carefully document your steps and decisions, since your main deliverable for this project will be a blog post reporting your findings."
   ]
  },
  {
   "cell_type": "code",
   "execution_count": 2,
   "metadata": {},
   "outputs": [],
   "source": [
    "# import libraries here; add more as necessary\n",
    "import numpy as np\n",
    "import pandas as pd\n",
    "import matplotlib.pyplot as plt\n",
    "import seaborn as sns\n",
    "import feather\n",
    "\n",
    "pd.options.display.max_rows = 100\n",
    "\n",
    "# magic word for producing visualizations in notebook\n",
    "%matplotlib inline"
   ]
  },
  {
   "cell_type": "code",
   "execution_count": 3,
   "metadata": {},
   "outputs": [],
   "source": [
    "from IPython.display import display_html\n",
    "def display_side_by_side(*args):\n",
    "    # source: https://stackoverflow.com/a/44923103/6931113\n",
    "    html_str=''\n",
    "    for df in args:\n",
    "        html_str+=df.to_html()\n",
    "    display_html(html_str.replace('table','table style=\"display:inline\"'),raw=True)"
   ]
  },
  {
   "cell_type": "code",
   "execution_count": 4,
   "metadata": {},
   "outputs": [],
   "source": [
    "from arvato_model.utils import *\n",
    "from arvato_model.plot import *\n",
    "from arvato_model.stats import *\n",
    "\n",
    "USE_CACHE = False"
   ]
  },
  {
   "cell_type": "markdown",
   "metadata": {},
   "source": [
    "## Part 0: Get to Know the Data\n",
    "\n",
    "There are four data files associated with this project:\n",
    "\n",
    "- `Udacity_AZDIAS_052018.csv`: Demographics data for the general population of Germany; 891 211 persons (rows) x 366 features (columns).\n",
    "- `Udacity_CUSTOMERS_052018.csv`: Demographics data for customers of a mail-order company; 191 652 persons (rows) x 369 features (columns).\n",
    "- `Udacity_MAILOUT_052018_TRAIN.csv`: Demographics data for individuals who were targets of a marketing campaign; 42 982 persons (rows) x 367 (columns).\n",
    "- `Udacity_MAILOUT_052018_TEST.csv`: Demographics data for individuals who were targets of a marketing campaign; 42 833 persons (rows) x 366 (columns).\n",
    "\n",
    "Each row of the demographics files represents a single person, but also includes information outside of individuals, including information about their household, building, and neighborhood. Use the information from the first two files to figure out how customers (\"CUSTOMERS\") are similar to or differ from the general population at large (\"AZDIAS\"), then use your analysis to make predictions on the other two files (\"MAILOUT\"), predicting which recipients are most likely to become a customer for the mail-order company.\n",
    "\n",
    "The \"CUSTOMERS\" file contains three extra columns ('CUSTOMER_GROUP', 'ONLINE_PURCHASE', and 'PRODUCT_GROUP'), which provide broad information about the customers depicted in the file. The original \"MAILOUT\" file included one additional column, \"RESPONSE\", which indicated whether or not each recipient became a customer of the company. For the \"TRAIN\" subset, this column has been retained, but in the \"TEST\" subset it has been removed; it is against that withheld column that your final predictions will be assessed in the Kaggle competition.\n",
    "\n",
    "Otherwise, all of the remaining columns are the same between the three data files. For more information about the columns depicted in the files, you can refer to two Excel spreadsheets provided in the workspace. [One of them](./DIAS Information Levels - Attributes 2017.xlsx) is a top-level list of attributes and descriptions, organized by informational category. [The other](./DIAS Attributes - Values 2017.xlsx) is a detailed mapping of data values for each feature in alphabetical order.\n",
    "\n",
    "In the below cell, we've provided some initial code to load in the first two datasets. Note for all of the `.csv` data files in this project that they're semicolon (`;`) delimited, so an additional argument in the [`read_csv()`](https://pandas.pydata.org/pandas-docs/stable/generated/pandas.read_csv.html) call has been included to read in the data properly. Also, considering the size of the datasets, it may take some time for them to load completely.\n",
    "\n",
    "You'll notice when the data is loaded in that a warning message will immediately pop up. Before you really start digging into the modeling and analysis, you're going to need to perform some cleaning. Take some time to browse the structure of the data and look over the informational spreadsheets to understand the data values. Make some decisions on which features to keep, which features to drop, and if any revisions need to be made on data formats. It'll be a good idea to create a function with pre-processing steps, since you'll need to clean all of the datasets before you work with them."
   ]
  },
  {
   "cell_type": "markdown",
   "metadata": {},
   "source": [
    "## Load data\n",
    "Read data as string first. Convert dtype on a need to basis."
   ]
  },
  {
   "cell_type": "code",
   "execution_count": 4,
   "metadata": {},
   "outputs": [],
   "source": [
    "# load in the data - force all data type to str\n",
    "n_read_lines = 10000\n",
    "\n",
    "azdias = pd.read_csv('data/Udacity_AZDIAS_052018.csv', \n",
    "                     sep=';', \n",
    "                     na_values={'CAMEO_DEUG_2015': ['X', 'XX'],\n",
    "                                'CAMEO_DEU_2015': ['X', 'XX'],\n",
    "                                'CAMEO_INTL_2015': ['X', 'XX']\n",
    "                               },\n",
    "                     # nrows=n_read_lines, \n",
    "                    )\n",
    "customer = pd.read_csv('data/Udacity_CUSTOMERS_052018.csv', \n",
    "                        sep=';', \n",
    "                        na_values={'CAMEO_DEUG_2015': ['X', 'XX'],\n",
    "                                   'CAMEO_DEU_2015': ['X', 'XX'],\n",
    "                                   'CAMEO_INTL_2015': ['X', 'XX']\n",
    "                               },\n",
    "                        # nrows=n_read_lines, \n",
    "                       )"
   ]
  },
  {
   "cell_type": "code",
   "execution_count": 5,
   "metadata": {},
   "outputs": [
    {
     "data": {
      "text/plain": [
       "((891221, 366), (191652, 369))"
      ]
     },
     "execution_count": 5,
     "metadata": {},
     "output_type": "execute_result"
    }
   ],
   "source": [
    "azdias.shape, customer.shape"
   ]
  },
  {
   "cell_type": "markdown",
   "metadata": {},
   "source": [
    "## Data Type Conversion\n",
    "1. `EINGEFUEGT_AM` is Date time YYYY-MM-DD HH:MM:SS\n",
    "1. `OST_WEST_KZ` Can be re-endoded as 0, 1"
   ]
  },
  {
   "cell_type": "code",
   "execution_count": 6,
   "metadata": {},
   "outputs": [],
   "source": [
    "# OST_WEST_KZ  (-1, O, W)\n",
    "azdias.replace({'OST_WEST_KZ': {'O': 0, 'W': 1}}, inplace=True)\n",
    "customer.replace({'OST_WEST_KZ': {'O': 0, 'W': 1}}, inplace=True)"
   ]
  },
  {
   "cell_type": "code",
   "execution_count": 7,
   "metadata": {},
   "outputs": [],
   "source": [
    "# drop LNR since it is just an indexing number and the other just a insert timestamp\n",
    "azdias.drop(['LNR', 'EINGEFUEGT_AM'], axis=1, inplace=True)\n",
    "customer.drop(['LNR', 'EINGEFUEGT_AM'], axis=1, inplace=True)"
   ]
  },
  {
   "cell_type": "code",
   "execution_count": 8,
   "metadata": {},
   "outputs": [
    {
     "name": "stdout",
     "output_type": "stream",
     "text": [
      "set()\n",
      "{'PRODUCT_GROUP', 'CUSTOMER_GROUP', 'ONLINE_PURCHASE'}\n"
     ]
    }
   ],
   "source": [
    "# Azdias and customers have the same columns\n",
    "print(set(azdias.columns)-set(customer.columns))\n",
    "print(set(customer.columns)-set(azdias.columns))"
   ]
  },
  {
   "cell_type": "code",
   "execution_count": 9,
   "metadata": {},
   "outputs": [],
   "source": [
    "# Align the columns\n",
    "customer = customer.loc[:, azdias.columns]"
   ]
  },
  {
   "cell_type": "code",
   "execution_count": 10,
   "metadata": {},
   "outputs": [
    {
     "name": "stderr",
     "output_type": "stream",
     "text": [
      "C:\\Users\\Pay1\\Anaconda3\\lib\\site-packages\\ipykernel_launcher.py:1: FutureWarning: The signature of `Series.to_csv` was aligned to that of `DataFrame.to_csv`, and argument 'header' will change its default value from False to True: please pass an explicit value to suppress this warning.\n",
      "  \"\"\"Entry point for launching an IPython kernel.\n",
      "C:\\Users\\Pay1\\Anaconda3\\lib\\site-packages\\ipykernel_launcher.py:2: FutureWarning: The signature of `Series.to_csv` was aligned to that of `DataFrame.to_csv`, and argument 'header' will change its default value from False to True: please pass an explicit value to suppress this warning.\n",
      "  \n"
     ]
    }
   ],
   "source": [
    "azdias.dtypes.to_csv('data/cache/azdias_dtypes.csv')\n",
    "customer.dtypes.to_csv('data/cache/customer_dtypes.csv')"
   ]
  },
  {
   "cell_type": "markdown",
   "metadata": {},
   "source": [
    "## Get meta data\n",
    "Meta data does not have description for all the columns. Here we try to see which columns have been left out.\n",
    "\n",
    "Similarly all meta data is not relevant for our data."
   ]
  },
  {
   "cell_type": "code",
   "execution_count": 5,
   "metadata": {},
   "outputs": [],
   "source": [
    "meta_data = read_value_meta_data()"
   ]
  },
  {
   "cell_type": "markdown",
   "metadata": {},
   "source": [
    "Understand which columns have not been covered by meta_data"
   ]
  },
  {
   "cell_type": "code",
   "execution_count": 12,
   "metadata": {},
   "outputs": [
    {
     "name": "stdout",
     "output_type": "stream",
     "text": [
      "276\n"
     ]
    }
   ],
   "source": [
    "# Common\n",
    "with_meta_cols = set(meta_data.Attribute).intersection(set(azdias.columns))\n",
    "print(len(with_meta_cols))"
   ]
  },
  {
   "cell_type": "code",
   "execution_count": 13,
   "metadata": {},
   "outputs": [
    {
     "name": "stdout",
     "output_type": "stream",
     "text": [
      "88 of the cols in data dont have meta data.\n"
     ]
    }
   ],
   "source": [
    "# Not described in meta_data\n",
    "no_meta_cols = set(azdias.columns) - set(meta_data.Attribute)\n",
    "print('%s of the cols in data dont have meta data.' % len(no_meta_cols))"
   ]
  },
  {
   "cell_type": "code",
   "execution_count": 14,
   "metadata": {},
   "outputs": [],
   "source": [
    "# DROP THE NO META DATA COLUMNS\n",
    "azdias.drop(no_meta_cols, axis=1, inplace=True)\n",
    "customer.drop(no_meta_cols, axis=1, inplace=True)"
   ]
  },
  {
   "cell_type": "code",
   "execution_count": 15,
   "metadata": {},
   "outputs": [
    {
     "name": "stdout",
     "output_type": "stream",
     "text": [
      "46 attributes in meta data are not in data.\n"
     ]
    }
   ],
   "source": [
    "# meta data attributes not in data\n",
    "meta_attr_not_in_data = set(meta_data.Attribute) - set(azdias.columns)\n",
    "print('%s attributes in meta data are not in data.' %len(meta_attr_not_in_data))"
   ]
  },
  {
   "cell_type": "code",
   "execution_count": 16,
   "metadata": {},
   "outputs": [],
   "source": [
    "# CHECKPOINT!!\n",
    "azdias.to_feather('data/cache/azdias_cleaned.feather')\n",
    "customer.to_feather('data/cache/customer_cleaned.feather')"
   ]
  },
  {
   "cell_type": "code",
   "execution_count": 19,
   "metadata": {},
   "outputs": [],
   "source": [
    "if USE_CACHE:\n",
    "    azdias = feather.read_dataframe('data/cache/azdias_cleaned.feather')\n",
    "    customer = feather.read_dataframe('data/cache/customer_cleaned.feather')"
   ]
  },
  {
   "cell_type": "markdown",
   "metadata": {},
   "source": [
    "## NA calues count"
   ]
  },
  {
   "cell_type": "code",
   "execution_count": 6,
   "metadata": {},
   "outputs": [],
   "source": [
    "if USE_CACHE:\n",
    "    col_na_summary_az = feather.read_dataframe('data/cache/col_na_summary_az.feather')\n",
    "    col_na_summary_az.set_index('index', inplace=True)\n",
    "    \n",
    "    col_na_summary_cu = feather.read_dataframe('data/cache/col_na_summary_cu.feather')\n",
    "    col_na_summary_cu.set_index('index', inplace=True)\n",
    "else:\n",
    "    col_na_summary_az = get_na_summary(azdias)\n",
    "    col_na_summary_cu = get_na_summary(customer)\n",
    "    \n",
    "    col_na_summary_az.reset_index().to_feather('data/cache/col_na_summary_az.feather')\n",
    "    col_na_summary_cu.reset_index().to_feather('data/cache/col_na_summary_cu.feather')\n",
    "    "
   ]
  },
  {
   "cell_type": "code",
   "execution_count": 11,
   "metadata": {},
   "outputs": [
    {
     "data": {
      "image/png": "[encoded data removed]",
      "text/plain": [
       "<Figure size 1440x720 with 1 Axes>"
      ]
     },
     "metadata": {
      "needs_background": "light"
     },
     "output_type": "display_data"
    }
   ],
   "source": [
    "col_na_summary_az.loc[:, 'na_perc'].head(100).plot.bar(figsize=(20, 10));"
   ]
  },
  {
   "cell_type": "code",
   "execution_count": 12,
   "metadata": {},
   "outputs": [
    {
     "data": {
      "image/png": "[encoded data removed]",
      "text/plain": [
       "<Figure size 1440x720 with 1 Axes>"
      ]
     },
     "metadata": {
      "needs_background": "light"
     },
     "output_type": "display_data"
    }
   ],
   "source": [
    "col_na_summary_cu.loc[:, 'na_perc'].head(100).plot.bar(figsize=(20, 10));"
   ]
  },
  {
   "cell_type": "code",
   "execution_count": 14,
   "metadata": {},
   "outputs": [],
   "source": [
    "if USE_CACHE:\n",
    "    row_na_summary_az = feather.read_dataframe('data/cache/row_na_summary_az.feather')\n",
    "    row_na_summary_az.set_index('index', inplace=True)\n",
    "    \n",
    "    row_na_summary_cu = feather.read_dataframe('data/cache/row_na_summary_cu.feather')\n",
    "    row_na_summary_cu.set_index('index', inplace=True)\n",
    "else:\n",
    "    row_na_summary_az = get_na_summary(azdias, axis=1)\n",
    "    row_na_summary_cu = get_na_summary(customer, axis=1)\n",
    "    \n",
    "    row_na_summary_az.reset_index().to_feather('data/cache/row_na_summary_az.feather')\n",
    "    row_na_summary_cu.reset_index().to_feather('data/cache/row_na_summary_cu.feather')"
   ]
  },
  {
   "cell_type": "code",
   "execution_count": 17,
   "metadata": {},
   "outputs": [
    {
     "data": {
      "text/plain": [
       "<matplotlib.axes._subplots.AxesSubplot at 0x2ecc10ee608>"
      ]
     },
     "execution_count": 17,
     "metadata": {},
     "output_type": "execute_result"
    },
    {
     "data": {
      "image/png": "[encoded data removed]",
      "text/plain": [
       "<Figure size 432x288 with 1 Axes>"
      ]
     },
     "metadata": {
      "needs_background": "light"
     },
     "output_type": "display_data"
    }
   ],
   "source": [
    "row_na_summary_az.loc[:, 'na_perc'].hist(bins=30);"
   ]
  },
  {
   "cell_type": "code",
   "execution_count": 18,
   "metadata": {},
   "outputs": [
    {
     "data": {
      "text/plain": [
       "<matplotlib.axes._subplots.AxesSubplot at 0x2ecbe368708>"
      ]
     },
     "execution_count": 18,
     "metadata": {},
     "output_type": "execute_result"
    },
    {
     "data": {
      "image/png": "[encoded data removed]",
      "text/plain": [
       "<Figure size 432x288 with 1 Axes>"
      ]
     },
     "metadata": {
      "needs_background": "light"
     },
     "output_type": "display_data"
    }
   ],
   "source": [
    "row_na_summary_cu.loc[:, 'na_perc'].hist(bins=30);"
   ]
  },
  {
   "cell_type": "markdown",
   "metadata": {},
   "source": [
    "## Missing values count"
   ]
  },
  {
   "cell_type": "code",
   "execution_count": 10,
   "metadata": {},
   "outputs": [],
   "source": [
    "na_dict = get_values_missing(meta_data, sep=', ')\n",
    "\n",
    "# if we need to convert this to string, int, float\n",
    "na_dict = {key: [float(i) for i in val] for key, val in na_dict.items()}"
   ]
  },
  {
   "cell_type": "code",
   "execution_count": null,
   "metadata": {},
   "outputs": [],
   "source": [
    "if USE_CACHE:\n",
    "    azdias = feather.read_dataframe('data/cache/azdias_cleaned_na_rpl.feather')\n",
    "    customer = feather.read_dataframe('data/cache/customer_cleaned_na_rpl.feather')\n",
    "else:    \n",
    "    # Replace the missing values as NA\n",
    "    azdias.replace(na_dict, pd.np.nan, inplace=True)\n",
    "    customer.replace(na_dict, pd.np.nan, inplace=True)\n",
    "    # azdias.to_feather('data/cache/azdias_cleaned_na_rpl.feather')\n",
    "    # customer.to_feather('data/cache/customer_cleaned_na_rpl.feather')"
   ]
  },
  {
   "cell_type": "code",
   "execution_count": null,
   "metadata": {},
   "outputs": [],
   "source": [
    "azdias.to_feather('data/cache/azdias_cleaned_na_rpl.feather')\n",
    "customer.to_feather('data/cache/customer_cleaned_na_rpl.feather')"
   ]
  },
  {
   "cell_type": "code",
   "execution_count": null,
   "metadata": {},
   "outputs": [],
   "source": [
    "id USE_CACHE:\n",
    "    col_na_summary_az = feather.read_dataframe('data/cache/col_na_summary_az_na_rpl.feather')\n",
    "    col_na_summary_cu = feather.read_dataframe('data/cache/col_na_summary_cu_na_rpl.feather')\n",
    "else:    \n",
    "    # Review how the NA distribution has changed in col and rows\n",
    "    col_na_summary_az = get_na_summary(azdias)\n",
    "    col_na_summary_cu = get_na_summary(customer)\n",
    "    col_na_summary_az.to_feather('data/cache/col_na_summary_az_na_rpl.feather')\n",
    "    col_na_summary_cu.to_feather('data/cache/col_na_summary_cu_na_rpl.feather')"
   ]
  },
  {
   "cell_type": "code",
   "execution_count": null,
   "metadata": {},
   "outputs": [],
   "source": [
    "col_na_summary_az.loc[:, 'na_perc'].head(100).plot.bar(figsize=(20, 10));"
   ]
  },
  {
   "cell_type": "code",
   "execution_count": null,
   "metadata": {},
   "outputs": [],
   "source": [
    "col_na_summary_cu.loc[:, 'na_perc'].head(100).plot.bar(figsize=(20, 10));"
   ]
  },
  {
   "cell_type": "code",
   "execution_count": null,
   "metadata": {},
   "outputs": [],
   "source": [
    "if USE_CACHE:\n",
    "    row_na_summary_az = feather.read_dataframe('data/cache/row_na_summary_az_na_rpl.feather')\n",
    "    row_na_summary_cu = feather.read_dataframe('data/cache/row_na_summary_cu_na_rpl.feather')\n",
    "else:\n",
    "    row_na_summary_az = get_na_summary(azdias, axis=1)\n",
    "    row_na_summary_cu = get_na_summary(customer, axis=1)\n",
    "    row_na_summary_az.to_feather('data/cache/row_na_summary_az_na_rpl.feather')\n",
    "    row_na_summary_cu.to_feather('data/cache/row_na_summary_cu_na_rpl.feather')"
   ]
  },
  {
   "cell_type": "code",
   "execution_count": null,
   "metadata": {},
   "outputs": [],
   "source": [
    "row_na_summary_az.loc[:, 'na_perc'].hist(bins=30)"
   ]
  },
  {
   "cell_type": "code",
   "execution_count": null,
   "metadata": {},
   "outputs": [],
   "source": [
    "row_na_summary_cu.loc[:, 'na_perc'].hist(bins=30)"
   ]
  },
  {
   "cell_type": "markdown",
   "metadata": {},
   "source": [
    "## Check uniqueness and distribution"
   ]
  },
  {
   "cell_type": "code",
   "execution_count": null,
   "metadata": {},
   "outputs": [],
   "source": [
    "if USE_CACHE:\n",
    "    diversity_index_az = feather.read_dataframe('data/cache/diversity_index_az.feather')\n",
    "else:\n",
    "    col_uq = azdias.nunique()\n",
    "    # Calculate the Simpsons and Shannon diversity index and get the Equivalence\n",
    "    shannon_idx = azdias.apply(shannon_diversity_index)\n",
    "    shannon_idx = shannon_idx/np.log(col_uq)\n",
    "    diversity_index_az = pd.DataFrame({'shannon': shannon_idx})\n",
    "    diversity_index_az.to_feather('data/cache/diversity_index_az.feather')"
   ]
  },
  {
   "cell_type": "code",
   "execution_count": null,
   "metadata": {},
   "outputs": [],
   "source": [
    "if USE_CACHE:\n",
    "    diversity_index_cu = feather.read_dataframe('data/cache/diversity_index_cu.feather')\n",
    "else:\n",
    "\n",
    "    col_uq = customer.nunique()\n",
    "    # Calculate the Simpsons and Shannon diversity index and get the Equivalence\n",
    "    shannon_idx = customer.apply(shannon_diversity_index)\n",
    "    shannon_idx = shannon_idx/np.log(col_uq)\n",
    "    diversity_index_cu = pd.DataFrame({'shannon': shannon_idx})\n",
    "    diversity_index_cu.to_feather('data/cache/diversity_index_cu.feather')"
   ]
  },
  {
   "cell_type": "code",
   "execution_count": null,
   "metadata": {},
   "outputs": [],
   "source": [
    "diversity_index_az.loc[:, 'shannon'].sort_values(ascending=True).head(100).plot.bar(figsize=(20, 10));"
   ]
  },
  {
   "cell_type": "code",
   "execution_count": null,
   "metadata": {},
   "outputs": [],
   "source": [
    "diversity_index_cu.loc[:, 'shannon'].sort_values(ascending=True).head(100).plot.bar(figsize=(20, 10));"
   ]
  },
  {
   "cell_type": "code",
   "execution_count": null,
   "metadata": {},
   "outputs": [],
   "source": [
    "# Here we plot the value distribution by each col.\n",
    "EQUIVALENCE_THRESHOLD = 0.5\n",
    "low_div_col = diversity_index_az.loc[diversity_index_az.shannon<=EQUIVALENCE_THRESHOLD, :].index\n",
    "idx = [list(azdias.columns).index(c) for c in low_div_col]\n",
    "print('{} col have less than {} equivalence'.format(len(idx), EQUIVALENCE_THRESHOLD))"
   ]
  },
  {
   "cell_type": "code",
   "execution_count": null,
   "metadata": {},
   "outputs": [],
   "source": [
    "plot_dim = int(np.ceil(np.sqrt(len(idx))))"
   ]
  },
  {
   "cell_type": "code",
   "execution_count": null,
   "metadata": {},
   "outputs": [],
   "source": [
    "plot_data_dist(azdias, col_idx=idx, n_col=plot_dim, n_row=plot_dim)"
   ]
  },
  {
   "cell_type": "markdown",
   "metadata": {},
   "source": [
    "# See correlation\n",
    "\n",
    "See the hierarchy dendrogram as well.\n",
    "\n",
    "See correaltion within the levels.\n",
    "\n",
    "Plot the scatter chart"
   ]
  },
  {
   "cell_type": "code",
   "execution_count": null,
   "metadata": {},
   "outputs": [],
   "source": [
    "idx = ~azdias.columns.isin(['CAMEO_DEU_2015', 'D19_LETZTER_KAUF_BRANCHE'])"
   ]
  },
  {
   "cell_type": "code",
   "execution_count": null,
   "metadata": {},
   "outputs": [],
   "source": [
    "if USE_CACHE:\n",
    "    rank_corr_az = feather.read_dataframe('data/cache/rank_corr_az.feather')\n",
    "    rank_corr_cu = feather.read_dataframe('data/cache/rank_corr_cu.feather')\n",
    "else:\n",
    "    rank_corr_az = azdias.iloc[:, idx].astype(float).corr('spearman')\n",
    "    rank_corr_cu = customer.iloc[:, idx].astype(float).corr('spearman')\n",
    "    rank_corr_az.to_feather('data/cache/rank_corr_az.feather')\n",
    "    rank_corr_cu.to_feather('data/cache/rank_corr_cu.feather')"
   ]
  },
  {
   "cell_type": "code",
   "execution_count": null,
   "metadata": {},
   "outputs": [],
   "source": [
    "# Set corr of less than 0.5 to 0 for the purpose of plotting.\n",
    "CORR_THRESHOLD = 0.5\n",
    "\n",
    "rank_corr_az_abs = rank_corr_az.abs()\n",
    "rank_corr_az_abs.where(rank_corr_az_abs > CORR_THRESHOLD, 0, inplace=True)\n",
    "\n",
    "rank_corr_cu_abs = rank_corr_cu.abs()\n",
    "rank_corr_cu_abs.where(rank_corr_cu_abs > CORR_THRESHOLD, 0, inplace=True)"
   ]
  },
  {
   "cell_type": "code",
   "execution_count": null,
   "metadata": {},
   "outputs": [],
   "source": [
    "# Plot only those whose corr exceeds the threshold\n",
    "# https://seaborn.pydata.org/examples/many_pairwise_correlations.html\n",
    "plt.figure(figsize=(15, 15))\n",
    "mask = np.zeros_like(rank_corr_az_abs, dtype=np.bool)\n",
    "mask[np.triu_indices_from(mask)] = True\n",
    "sns.heatmap(rank_corr_az_abs, cmap='Blues', square=True, mask=mask);"
   ]
  },
  {
   "cell_type": "code",
   "execution_count": null,
   "metadata": {},
   "outputs": [],
   "source": [
    "# Plot only those whose corr exceeds the threshold\n",
    "# https://seaborn.pydata.org/examples/many_pairwise_correlations.html\n",
    "plt.figure(figsize=(15, 15))\n",
    "mask = np.zeros_like(rank_corr_cu_abs, dtype=np.bool)\n",
    "mask[np.triu_indices_from(mask)] = True\n",
    "sns.heatmap(rank_corr_cu_abs, cmap='Blues', square=True, mask=mask);"
   ]
  },
  {
   "cell_type": "code",
   "execution_count": null,
   "metadata": {},
   "outputs": [],
   "source": []
  },
  {
   "cell_type": "markdown",
   "metadata": {},
   "source": [
    "# Compare distribution by Information Level\n",
    "\n",
    "We want to see what sets them apart. So for eacH information level - plot the distributions side by side.\n",
    "Do a chi square test as well.\n",
    "\n",
    "As per meta data\n",
    "1. PERSON - 43\n",
    "1. Household - 32\n",
    "1. Building - 10\n",
    "1. Microcell (RR4_ID) - 3\n",
    "1. Microcell (RR3_ID) - 64 - focuses mainly on cars and vehicle ownership\n",
    "1. 125m x 125m Grid - 33 Transactional activity \n",
    "1. Postcode - 4\n",
    "1. RR1_ID - 5\n",
    "1. PLZ8 - 114 Car owner ship data\n",
    "1. Community - 5\n"
   ]
  },
  {
   "cell_type": "code",
   "execution_count": null,
   "metadata": {},
   "outputs": [],
   "source": [
    "def get_attributes(info_level, meta_data=meta_data):\n",
    "    idx = meta_data.loc[:, 'Information level']==info_level\n",
    "    attributes = meta_data.loc[idx, 'Attribute'].unique()\n",
    "    \n",
    "    return attributes"
   ]
  },
  {
   "cell_type": "markdown",
   "metadata": {},
   "source": [
    "## Person"
   ]
  },
  {
   "cell_type": "code",
   "execution_count": null,
   "metadata": {},
   "outputs": [],
   "source": [
    "plot_attributes = get_attributes('Person')\n",
    "plot_attributes = list(set(plot_attributes).intersection(customer.columns))"
   ]
  },
  {
   "cell_type": "code",
   "execution_count": null,
   "metadata": {},
   "outputs": [],
   "source": [
    "plot_data_dist_comp(azdias, customer, plot_attributes, 6, 7, (25, 25))"
   ]
  },
  {
   "cell_type": "code",
   "execution_count": null,
   "metadata": {},
   "outputs": [],
   "source": [
    "calc_chi2_stats(azdias, customer, plot_attributes)"
   ]
  },
  {
   "cell_type": "markdown",
   "metadata": {},
   "source": [
    "## Household"
   ]
  },
  {
   "cell_type": "code",
   "execution_count": null,
   "metadata": {},
   "outputs": [],
   "source": [
    "plot_attributes = get_attributes('Household')\n",
    "plot_attributes = list(set(plot_attributes).intersection(customer.columns))"
   ]
  },
  {
   "cell_type": "code",
   "execution_count": null,
   "metadata": {},
   "outputs": [],
   "source": [
    "plot_data_dist_comp(azdias, customer, plot_attributes, 6, 6, (25, 25))"
   ]
  },
  {
   "cell_type": "code",
   "execution_count": null,
   "metadata": {},
   "outputs": [],
   "source": [
    "calc_chi2_stats(azdias, customer, plot_attributes)"
   ]
  },
  {
   "cell_type": "markdown",
   "metadata": {},
   "source": [
    "## Building"
   ]
  },
  {
   "cell_type": "code",
   "execution_count": null,
   "metadata": {},
   "outputs": [],
   "source": [
    "plot_attributes = get_attributes('Building')\n",
    "plot_attributes = list(set(plot_attributes).intersection(customer.columns))"
   ]
  },
  {
   "cell_type": "code",
   "execution_count": null,
   "metadata": {},
   "outputs": [],
   "source": [
    "plot_data_dist_comp(azdias, customer, plot_attributes, 3, 3, (15, 15))"
   ]
  },
  {
   "cell_type": "code",
   "execution_count": null,
   "metadata": {},
   "outputs": [],
   "source": [
    "calc_chi2_stats(azdias, customer, plot_attributes)"
   ]
  },
  {
   "cell_type": "markdown",
   "metadata": {},
   "source": [
    "## Microcell (RR4_ID)"
   ]
  },
  {
   "cell_type": "code",
   "execution_count": null,
   "metadata": {},
   "outputs": [],
   "source": [
    "plot_attributes = get_attributes('Microcell (RR4_ID)')\n",
    "plot_attributes = list(set(plot_attributes).intersection(customer.columns))"
   ]
  },
  {
   "cell_type": "code",
   "execution_count": null,
   "metadata": {},
   "outputs": [],
   "source": [
    "plot_data_dist_comp(azdias, customer, plot_attributes, 3, 1, (15, 5))"
   ]
  },
  {
   "cell_type": "code",
   "execution_count": null,
   "metadata": {},
   "outputs": [],
   "source": [
    "calc_chi2_stats(azdias, customer, plot_attributes)"
   ]
  },
  {
   "cell_type": "markdown",
   "metadata": {},
   "source": [
    "## Microcell (RR3_ID)"
   ]
  },
  {
   "cell_type": "code",
   "execution_count": null,
   "metadata": {},
   "outputs": [],
   "source": [
    "plot_attributes = get_attributes('Microcell (RR3_ID)')\n",
    "plot_attributes = list(set(plot_attributes).intersection(customer.columns))"
   ]
  },
  {
   "cell_type": "code",
   "execution_count": null,
   "metadata": {},
   "outputs": [],
   "source": [
    "plot_data_dist_comp(azdias, customer, plot_attributes, 7, 8, (25, 25))"
   ]
  },
  {
   "cell_type": "code",
   "execution_count": null,
   "metadata": {},
   "outputs": [],
   "source": [
    "calc_chi2_stats(azdias, customer, plot_attributes)"
   ]
  },
  {
   "cell_type": "markdown",
   "metadata": {},
   "source": [
    "## 125m x 125m Grid"
   ]
  },
  {
   "cell_type": "code",
   "execution_count": null,
   "metadata": {},
   "outputs": [],
   "source": [
    "plot_attributes = get_attributes('125m x 125m Grid')\n",
    "plot_attributes = list(set(plot_attributes).intersection(customer.columns))\n",
    "if plot_attributes:\n",
    "    plot_data_dist_comp(azdias, customer, plot_attributes, 6, 5, (25, 25))\n",
    "else:\n",
    "    print('WARNING: The attributes for information level \\'125m x 125m Grid\\' are not found in data set')"
   ]
  },
  {
   "cell_type": "markdown",
   "metadata": {},
   "source": [
    "## Postcode"
   ]
  },
  {
   "cell_type": "code",
   "execution_count": null,
   "metadata": {},
   "outputs": [],
   "source": [
    "plot_attributes = get_attributes('Postcode')\n",
    "plot_attributes = list(set(plot_attributes).intersection(customer.columns))\n",
    "if plot_attributes:\n",
    "    plot_data_dist_comp(azdias, customer, plot_attributes, 4, 1, (20, 5))\n",
    "else:\n",
    "    print('WARNING: The attributes for information level \\'Postcode\\' are not found in data set')"
   ]
  },
  {
   "cell_type": "markdown",
   "metadata": {},
   "source": [
    "## RR1_ID"
   ]
  },
  {
   "cell_type": "code",
   "execution_count": null,
   "metadata": {},
   "outputs": [],
   "source": [
    "plot_attributes = get_attributes('RR1_ID')\n",
    "plot_attributes = list(set(plot_attributes).intersection(customer.columns))"
   ]
  },
  {
   "cell_type": "code",
   "execution_count": null,
   "metadata": {},
   "outputs": [],
   "source": [
    "plot_data_dist_comp(azdias, customer, plot_attributes, 5, 1, (25, 5))"
   ]
  },
  {
   "cell_type": "code",
   "execution_count": null,
   "metadata": {},
   "outputs": [],
   "source": [
    "calc_chi2_stats(azdias, customer, plot_attributes)"
   ]
  },
  {
   "cell_type": "markdown",
   "metadata": {},
   "source": [
    "## PLZ8"
   ]
  },
  {
   "cell_type": "code",
   "execution_count": null,
   "metadata": {},
   "outputs": [],
   "source": [
    "plot_attributes = get_attributes('PLZ8')\n",
    "plot_attributes = list(set(plot_attributes).intersection(customer.columns))"
   ]
  },
  {
   "cell_type": "code",
   "execution_count": null,
   "metadata": {},
   "outputs": [],
   "source": [
    "plot_data_dist_comp(azdias, customer, plot_attributes, 11, 11, (30, 30))"
   ]
  },
  {
   "cell_type": "code",
   "execution_count": null,
   "metadata": {},
   "outputs": [],
   "source": [
    "calc_chi2_stats(azdias, customer, plot_attributes)"
   ]
  },
  {
   "cell_type": "markdown",
   "metadata": {},
   "source": [
    "## Community"
   ]
  },
  {
   "cell_type": "code",
   "execution_count": null,
   "metadata": {},
   "outputs": [],
   "source": [
    "plot_attributes = get_attributes('Community')\n",
    "plot_attributes = list(set(plot_attributes).intersection(customer.columns))"
   ]
  },
  {
   "cell_type": "code",
   "execution_count": null,
   "metadata": {},
   "outputs": [],
   "source": [
    "plot_data_dist_comp(azdias, customer, plot_attributes, 3, 1, (15, 5))"
   ]
  },
  {
   "cell_type": "code",
   "execution_count": null,
   "metadata": {},
   "outputs": [],
   "source": [
    "calc_chi2_stats(azdias, customer, plot_attributes)"
   ]
  },
  {
   "cell_type": "markdown",
   "metadata": {},
   "source": [
    "# Clean NA"
   ]
  },
  {
   "cell_type": "code",
   "execution_count": 20,
   "metadata": {},
   "outputs": [],
   "source": [
    "ROW_NA_PERC_THOLD = 0.20\n",
    "COL_NA_PERC_THOLD = 0.20"
   ]
  },
  {
   "cell_type": "code",
   "execution_count": null,
   "metadata": {},
   "outputs": [],
   "source": [
    "# Trim out columns that have more than 20% missing data.\n",
    "cols_to_drop = col_na_summary.loc[col_na_summary.na_perc > COL_NA_PERC_THOLD, :].index"
   ]
  },
  {
   "cell_type": "code",
   "execution_count": null,
   "metadata": {},
   "outputs": [],
   "source": [
    "azdias.drop(list(cols_to_drop), axis=1, inplace=True)"
   ]
  },
  {
   "cell_type": "code",
   "execution_count": null,
   "metadata": {},
   "outputs": [],
   "source": [
    "# Recalc row wise NA summary\n",
    "row_na_summary = get_na_summary(azdias, axis=1)\n",
    "row_na_summary.loc[:, 'na_perc'].hist(bins=30)"
   ]
  },
  {
   "cell_type": "code",
   "execution_count": null,
   "metadata": {},
   "outputs": [],
   "source": [
    "# Trim out rows that have more than 20% missing data.\n",
    "rows_to_drop = row_na_summary.loc[row_na_summary.na_perc > ROW_NA_PERC_THOLD, :].index"
   ]
  },
  {
   "cell_type": "code",
   "execution_count": null,
   "metadata": {},
   "outputs": [],
   "source": [
    "azdias.drop(list(rows_to_drop), axis=0, inplace=True)"
   ]
  },
  {
   "cell_type": "code",
   "execution_count": null,
   "metadata": {},
   "outputs": [],
   "source": [
    "row_na_summary = get_na_summary(azdias, axis=1)\n",
    "row_na_summary.loc[:, 'na_perc'].hist(bins=30)"
   ]
  },
  {
   "cell_type": "code",
   "execution_count": null,
   "metadata": {},
   "outputs": [],
   "source": [
    "azdias.shape"
   ]
  },
  {
   "cell_type": "markdown",
   "metadata": {},
   "source": [
    "# One Hot Encoding\n",
    "\n",
    "Boolean columns that dont need one-hot encoding\n",
    "* ANREDE_KZ\n",
    "* BIP_FLAG\n",
    "* GREEN_AVANTGARDE\n",
    "* KBA05_SEG6\n",
    "* OST_WEST_KZ\n",
    "* VERS_TYP\n",
    "\n",
    "These are the numerical columns that dont need one hot encoding\n",
    "* ANZ_HAUSHALTE_AKTIV\n",
    "* ANZ_HH_TITEL\n",
    "* ANZ_PERSONEN\n",
    "* ANZ_TITEL\n",
    "* GEBURTSJAHR\n",
    "* KBA13_ANZAHL_PKW\n",
    "* MIN_GEBAEUDEJAHR\n"
   ]
  },
  {
   "cell_type": "code",
   "execution_count": null,
   "metadata": {},
   "outputs": [],
   "source": [
    "azdias.replace({'ANREDE_KZ': {2: 0}}, inplace=True)\n",
    "azdias.replace({'VERS_TYP': {2: 0}}, inplace=True)"
   ]
  },
  {
   "cell_type": "code",
   "execution_count": null,
   "metadata": {},
   "outputs": [],
   "source": [
    "no_encode_cols = ['ANZ_HAUSHALTE_AKTIV', 'ANZ_HH_TITEL', 'ANZ_PERSONEN', 'ANZ_TITEL', 'GEBURTSJAHR',\n",
    "                  'KBA13_ANZAHL_PKW', 'MIN_GEBAEUDEJAHR', 'ANREDE_KZ', 'BIP_FLAG', 'GREEN_AVANTGARDE',\n",
    "                  'KBA05_SEG6', 'OST_WEST_KZ', 'VERS_TYP']\n",
    "one_hot_encode_cols = azdias.columns[~azdias.columns.isin(no_encode_cols)]"
   ]
  },
  {
   "cell_type": "code",
   "execution_count": null,
   "metadata": {},
   "outputs": [],
   "source": [
    "col_n_uq = azdias.loc[:, one_hot_encode_cols].nunique().sort_values(ascending=True)\n",
    "col_n_uq[col_n_uq>10]"
   ]
  },
  {
   "cell_type": "code",
   "execution_count": null,
   "metadata": {},
   "outputs": [],
   "source": [
    "# remove the large variations\n",
    "one_hot_encode_cols = one_hot_encode_cols.drop('LP_LEBENSPHASE_FEIN')\n",
    "one_hot_encode_cols = one_hot_encode_cols.drop('CAMEO_DEU_2015')\n",
    "azdias.drop(['CAMEO_DEU_2015', 'LP_LEBENSPHASE_FEIN'], axis=1, inplace=True)"
   ]
  },
  {
   "cell_type": "code",
   "execution_count": null,
   "metadata": {},
   "outputs": [],
   "source": [
    "azdias_cleaned = pd.get_dummies(azdias, columns=one_hot_encode_cols)"
   ]
  },
  {
   "cell_type": "code",
   "execution_count": null,
   "metadata": {},
   "outputs": [],
   "source": [
    "azdias.shape, azdias_cleaned.shape"
   ]
  },
  {
   "cell_type": "markdown",
   "metadata": {},
   "source": [
    "## Part 1: Customer Segmentation Report\n",
    "\n",
    "The main bulk of your analysis will come in this part of the project. Here, you should use unsupervised learning techniques to describe the relationship between the demographics of the company's existing customers and the general population of Germany. By the end of this part, you should be able to describe parts of the general population that are more likely to be part of the mail-order company's main customer base, and which parts of the general population are less so."
   ]
  },
  {
   "cell_type": "code",
   "execution_count": null,
   "metadata": {},
   "outputs": [],
   "source": [
    "from sklearn.preprocessing import StandardScaler\n",
    "from sklearn.decomposition import PCA"
   ]
  },
  {
   "cell_type": "code",
   "execution_count": null,
   "metadata": {},
   "outputs": [],
   "source": [
    "scaler = StandardScaler()\n",
    "azdias_scaled = scaler.fit_transform(azdias_cleaned.dropna(how='any', axis=0))"
   ]
  },
  {
   "cell_type": "code",
   "execution_count": null,
   "metadata": {},
   "outputs": [],
   "source": [
    "azdias_scaled.shape"
   ]
  },
  {
   "cell_type": "code",
   "execution_count": null,
   "metadata": {},
   "outputs": [],
   "source": [
    "pca = PCA()\n",
    "pca.fit(azdias_scaled)  "
   ]
  },
  {
   "cell_type": "code",
   "execution_count": null,
   "metadata": {},
   "outputs": [],
   "source": [
    "## Investigate the variance accounted for by each principal component.\n",
    "# print(pca.explained_variance_ratio_)  \n",
    "# print(pca.singular_values_)  \n",
    "\n",
    "plt.plot(np.cumsum(pca.explained_variance_ratio_))\n",
    "plt.xlabel('number of components')\n",
    "plt.ylabel('cumulative explained variance')\n",
    "plt.axhline(y=0.95)\n",
    "plt.axvline(x=80)"
   ]
  },
  {
   "cell_type": "code",
   "execution_count": null,
   "metadata": {},
   "outputs": [],
   "source": [
    "# Re-apply PCA to the data while selecting for number of components to retain.\n",
    "pca = PCA(n_components=800)\n",
    "pca.fit(azdias_scaled)"
   ]
  },
  {
   "cell_type": "code",
   "execution_count": null,
   "metadata": {},
   "outputs": [],
   "source": [
    "pca_txfm_data = pca.fit_transform(azdias_scaled)"
   ]
  },
  {
   "cell_type": "code",
   "execution_count": null,
   "metadata": {},
   "outputs": [],
   "source": [
    "pca.components_"
   ]
  },
  {
   "cell_type": "code",
   "execution_count": null,
   "metadata": {},
   "outputs": [],
   "source": [
    "# Map weights for the first principal component to corresponding feature names\n",
    "# and then print the linked values, sorted by weight.\n",
    "\n",
    "pc_names = ['PC-'+str(i) for i in range(pca.components_.shape[0])]\n",
    "pca_components = pd.DataFrame(pca.components_, columns=azdias_cleaned.columns, index=pc_names)"
   ]
  },
  {
   "cell_type": "code",
   "execution_count": null,
   "metadata": {},
   "outputs": [],
   "source": [
    "def get_pca_component_wts(component_matrix, pc, sort_by='magnitude'):\n",
    "    label = 'PC-' + str(pc)\n",
    "    summary = pd.DataFrame(component_matrix.loc[label, :])\n",
    "    \n",
    "    if sort_by == '+':\n",
    "        return summary.sort_values(label, ascending=False).loc[:, label]\n",
    "    elif sort_by == '-':\n",
    "        # we are just sorting ascending hoping that negative components show up.\n",
    "        # But there may be no negative components.\n",
    "        return summary.sort_values(label, ascending=True).loc[:, label]\n",
    "    elif sort_by == 'magnitude':\n",
    "        summary['abs'] = summary[label].abs()\n",
    "        return summary.sort_values('abs', ascending=False).loc[:, label]\n",
    "    else:\n",
    "        return summary.loc[:, label]"
   ]
  },
  {
   "cell_type": "code",
   "execution_count": null,
   "metadata": {},
   "outputs": [],
   "source": [
    "pca_wts = get_pca_component_wts(pca_components, 0, '+').head(10)\n",
    "pca_wts"
   ]
  },
  {
   "cell_type": "code",
   "execution_count": null,
   "metadata": {},
   "outputs": [],
   "source": [
    "pca_wts = get_pca_component_wts(pca_components, 0, '-').head(10)\n",
    "pca_wts"
   ]
  },
  {
   "cell_type": "code",
   "execution_count": null,
   "metadata": {},
   "outputs": [],
   "source": [
    "pca_wts = get_pca_component_wts(pca_components, 1, '+').head(10)\n",
    "pca_wts"
   ]
  },
  {
   "cell_type": "code",
   "execution_count": null,
   "metadata": {},
   "outputs": [],
   "source": [
    "pca_wts = get_pca_component_wts(pca_components, 2, '+').head(10)\n",
    "pca_wts"
   ]
  },
  {
   "cell_type": "markdown",
   "metadata": {},
   "source": [
    "## Part 2: Supervised Learning Model\n",
    "\n",
    "Now that you've found which parts of the population are more likely to be customers of the mail-order company, it's time to build a prediction model. Each of the rows in the \"MAILOUT\" data files represents an individual that was targeted for a mailout campaign. Ideally, we should be able to use the demographic information from each individual to decide whether or not it will be worth it to include that person in the campaign.\n",
    "\n",
    "The \"MAILOUT\" data has been split into two approximately equal parts, each with almost 43 000 data rows. In this part, you can verify your model with the \"TRAIN\" partition, which includes a column, \"RESPONSE\", that states whether or not a person became a customer of the company following the campaign. In the next part, you'll need to create predictions on the \"TEST\" partition, where the \"RESPONSE\" column has been withheld."
   ]
  },
  {
   "cell_type": "code",
   "execution_count": null,
   "metadata": {},
   "outputs": [],
   "source": [
    "# mailout_train = pd.read_csv('../../data/Term2/capstone/arvato_data/Udacity_MAILOUT_052018_TRAIN.csv', sep=';')"
   ]
  },
  {
   "cell_type": "code",
   "execution_count": null,
   "metadata": {},
   "outputs": [],
   "source": []
  },
  {
   "cell_type": "markdown",
   "metadata": {},
   "source": [
    "## Part 3: Kaggle Competition\n",
    "\n",
    "Now that you've created a model to predict which individuals are most likely to respond to a mailout campaign, it's time to test that model in competition through Kaggle. If you click on the link [here](http://www.kaggle.com/t/21e6d45d4c574c7fa2d868f0e8c83140), you'll be taken to the competition page where, if you have a Kaggle account, you can enter. If you're one of the top performers, you may have the chance to be contacted by a hiring manager from Arvato or Bertelsmann for an interview!\n",
    "\n",
    "Your entry to the competition should be a CSV file with two columns. The first column should be a copy of \"LNR\", which acts as an ID number for each individual in the \"TEST\" partition. The second column, \"RESPONSE\", should be some measure of how likely each individual became a customer – this might not be a straightforward probability. As you should have found in Part 2, there is a large output class imbalance, where most individuals did not respond to the mailout. Thus, predicting individual classes and using accuracy does not seem to be an appropriate performance evaluation method. Instead, the competition will be using AUC to evaluate performance. The exact values of the \"RESPONSE\" column do not matter as much: only that the higher values try to capture as many of the actual customers as possible, early in the ROC curve sweep."
   ]
  },
  {
   "cell_type": "code",
   "execution_count": null,
   "metadata": {},
   "outputs": [],
   "source": [
    "# mailout_test = pd.read_csv('../../data/Term2/capstone/arvato_data/Udacity_MAILOUT_052018_TEST.csv', sep=';')"
   ]
  },
  {
   "cell_type": "code",
   "execution_count": null,
   "metadata": {},
   "outputs": [],
   "source": []
  }
 ],
 "metadata": {
  "kernelspec": {
   "display_name": "Python 3",
   "language": "python",
   "name": "python3"
  },
  "language_info": {
   "codemirror_mode": {
    "name": "ipython",
    "version": 3
   },
   "file_extension": ".py",
   "mimetype": "text/x-python",
   "name": "python",
   "nbconvert_exporter": "python",
   "pygments_lexer": "ipython3",
   "version": "3.7.5"
  }
 },
 "nbformat": 4,
 "nbformat_minor": 4
}
